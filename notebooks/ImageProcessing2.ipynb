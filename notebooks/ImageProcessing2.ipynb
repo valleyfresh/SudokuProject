{
 "cells": [
  {
   "cell_type": "code",
   "execution_count": 1,
   "metadata": {
    "scrolled": true
   },
   "outputs": [
    {
     "name": "stdout",
     "output_type": "stream",
     "text": [
      "Using matplotlib backend: Qt5Agg\n"
     ]
    }
   ],
   "source": [
    "import cv2\n",
    "from imutils import contours\n",
    "import numpy as np\n",
    "%matplotlib auto"
   ]
  },
  {
   "cell_type": "code",
   "execution_count": 22,
   "metadata": {},
   "outputs": [],
   "source": [
    "# Load image, grayscale, and adaptive threshold\n",
    "image = cv2.imread('puzzle4.JPG')\n",
    "gray = cv2.cvtColor(image, cv2.COLOR_BGR2GRAY)\n",
    "blur = cv2.GaussianBlur(gray, (5,5), 0)\n",
    "thresh = cv2.adaptiveThreshold(blur,255,cv2.ADAPTIVE_THRESH_GAUSSIAN_C, cv2.THRESH_BINARY_INV,57,5)\n",
    "\n",
    "cv2.imshow('thresh', thresh)\n"
   ]
  },
  {
   "cell_type": "code",
   "execution_count": 23,
   "metadata": {},
   "outputs": [],
   "source": [
    "# Retrieve largest area in the image\n",
    "cnts = cv2.findContours(thresh, cv2.RETR_TREE, cv2.CHAIN_APPROX_SIMPLE)\n",
    "cnts = cnts[0] if len(cnts) == 2 else cnts[1]\n",
    "\n",
    "max_area = 0\n",
    "c = 0\n",
    "for i in cnts:\n",
    "        area = cv2.contourArea(i)\n",
    "        if area > 1000:\n",
    "                if area > max_area:\n",
    "                    max_area = area\n",
    "                    best_cnt = i\n",
    "                    image = cv2.drawContours(image, cnts, c, (0, 255, 0), 3)\n",
    "        c+=1"
   ]
  },
  {
   "cell_type": "code",
   "execution_count": 24,
   "metadata": {},
   "outputs": [],
   "source": [
    "mask = np.zeros((thresh.shape),np.uint8)\n",
    "cv2.drawContours(mask,[best_cnt],0,255,-1)\n",
    "cv2.drawContours(mask,[best_cnt],0,0,2)\n",
    "cv2.imshow(\"mask\", mask)"
   ]
  },
  {
   "cell_type": "code",
   "execution_count": 25,
   "metadata": {},
   "outputs": [],
   "source": [
    "out = np.zeros_like(thresh)\n",
    "out[mask == 255] = gray[mask == 255]\n",
    "cv2.imshow(\"New image\", out)"
   ]
  },
  {
   "cell_type": "code",
   "execution_count": 26,
   "metadata": {},
   "outputs": [
    {
     "name": "stdout",
     "output_type": "stream",
     "text": [
      "4\n"
     ]
    }
   ],
   "source": [
    "approx = cv2.approxPolyDP(best_cnt, 0.02 * cv2.arcLength(best_cnt, True), True)\n",
    "print(len(approx))"
   ]
  },
  {
   "cell_type": "code",
   "execution_count": 27,
   "metadata": {
    "scrolled": false
   },
   "outputs": [
    {
     "name": "stdout",
     "output_type": "stream",
     "text": [
      "[[108.  71.]\n",
      " [107. 572.]\n",
      " [607. 572.]\n",
      " [608.  72.]]\n"
     ]
    },
    {
     "data": {
      "text/plain": [
       "(4, 2)"
      ]
     },
     "execution_count": 27,
     "metadata": {},
     "output_type": "execute_result"
    }
   ],
   "source": [
    "src = np.squeeze(approx, axis=1)\n",
    "src = np.array(src,np.float32)\n",
    "print(src)\n",
    "src.shape"
   ]
  },
  {
   "cell_type": "code",
   "execution_count": 28,
   "metadata": {},
   "outputs": [],
   "source": [
    "testImg = out.copy()\n",
    "cv2.imshow(\"test\",testImg)"
   ]
  },
  {
   "cell_type": "code",
   "execution_count": null,
   "metadata": {},
   "outputs": [],
   "source": [
    "#for x in range(4):\n",
    "    #cv2.circle(testImg,(src[x][0],src[x][1]),10,(0,255,0),cv2.FILLED)\n",
    "\n",
    "#cv2.imshow(\"test\",testImg)"
   ]
  },
  {
   "cell_type": "code",
   "execution_count": 29,
   "metadata": {},
   "outputs": [],
   "source": [
    "def width_and_height(approx):\n",
    "    x_coord = list(approx[:,0][:,0])\n",
    "    y_coord = list(approx[:,0][:,1])\n",
    "    width = max(x_coord) - min(x_coord)\n",
    "    height = max(y_coord) - min(y_coord)\n",
    "\n",
    "    return width, height"
   ]
  },
  {
   "cell_type": "code",
   "execution_count": 30,
   "metadata": {},
   "outputs": [
    {
     "name": "stdout",
     "output_type": "stream",
     "text": [
      "501\n",
      "501\n"
     ]
    }
   ],
   "source": [
    "width, height = width_and_height(approx)\n",
    "print(width)\n",
    "print(height)"
   ]
  },
  {
   "cell_type": "code",
   "execution_count": 31,
   "metadata": {},
   "outputs": [
    {
     "name": "stdout",
     "output_type": "stream",
     "text": [
      "[[  0.   0.]\n",
      " [  0. 501.]\n",
      " [501. 501.]\n",
      " [501.   0.]]\n"
     ]
    }
   ],
   "source": [
    "warp_points = np.float32([[0,0],[0,height],[width,height],[width,0]])\n",
    "print(warp_points)"
   ]
  },
  {
   "cell_type": "code",
   "execution_count": 32,
   "metadata": {},
   "outputs": [
    {
     "name": "stdout",
     "output_type": "stream",
     "text": [
      "[[ 9.99563930e-01  1.99513758e-03 -1.08094559e+02]\n",
      " [-1.99911986e-03  9.99559931e-01 -7.07528502e+01]\n",
      " [-3.99025921e-06 -1.59451395e-08  1.00000000e+00]]\n"
     ]
    }
   ],
   "source": [
    "matrix = cv2.getPerspectiveTransform(src,warp_points)\n",
    "print(matrix)"
   ]
  },
  {
   "cell_type": "code",
   "execution_count": 33,
   "metadata": {},
   "outputs": [],
   "source": [
    "output = cv2.warpPerspective(testImg, matrix, (width,height))"
   ]
  },
  {
   "cell_type": "code",
   "execution_count": 34,
   "metadata": {},
   "outputs": [],
   "source": [
    "cv2.imshow(\"test\",output)"
   ]
  },
  {
   "cell_type": "code",
   "execution_count": null,
   "metadata": {},
   "outputs": [],
   "source": []
  }
 ],
 "metadata": {
  "kernelspec": {
   "display_name": "Python 3",
   "language": "python",
   "name": "python3"
  },
  "language_info": {
   "codemirror_mode": {
    "name": "ipython",
    "version": 3
   },
   "file_extension": ".py",
   "mimetype": "text/x-python",
   "name": "python",
   "nbconvert_exporter": "python",
   "pygments_lexer": "ipython3",
   "version": "3.7.4"
  }
 },
 "nbformat": 4,
 "nbformat_minor": 2
}

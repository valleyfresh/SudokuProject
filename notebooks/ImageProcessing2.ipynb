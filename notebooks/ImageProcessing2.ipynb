{
 "cells": [
  {
   "cell_type": "code",
   "execution_count": 143,
   "metadata": {
    "scrolled": true
   },
   "outputs": [
    {
     "output_type": "stream",
     "name": "stdout",
     "text": [
      "Using matplotlib backend: Qt5Agg\n"
     ]
    }
   ],
   "source": [
    "import cv2\n",
    "import numpy as np\n",
    "%matplotlib auto"
   ]
  },
  {
   "cell_type": "code",
   "execution_count": 215,
   "metadata": {},
   "outputs": [],
   "source": [
    "# Load image, grayscale, and adaptive threshold\n",
    "image = cv2.imread('..\\images\\puzzle.JPG')\n",
    "gray = cv2.cvtColor(image, cv2.COLOR_BGR2GRAY)\n",
    "blur = cv2.GaussianBlur(gray, (5,5), 0)\n",
    "thresh = cv2.adaptiveThreshold(blur,255,cv2.ADAPTIVE_THRESH_GAUSSIAN_C, cv2.THRESH_BINARY_INV,57,5)\n",
    "\n",
    "cv2.imshow('thresh', thresh)\n"
   ]
  },
  {
   "cell_type": "code",
   "execution_count": 216,
   "metadata": {},
   "outputs": [],
   "source": [
    "# Retrieve largest area in the image\n",
    "cnts = cv2.findContours(thresh, cv2.RETR_TREE, cv2.CHAIN_APPROX_SIMPLE)\n",
    "cnts = cnts[0] if len(cnts) == 2 else cnts[1]\n",
    "\n",
    "max_area = 0\n",
    "c = 0\n",
    "for i in cnts:\n",
    "        area = cv2.contourArea(i)\n",
    "        if area > 1000:\n",
    "                if area > max_area:\n",
    "                    max_area = area\n",
    "                    best_cnt = i\n",
    "                    image = cv2.drawContours(image, cnts, c, (0, 255, 0), 3)\n",
    "        c+=1"
   ]
  },
  {
   "cell_type": "code",
   "execution_count": 217,
   "metadata": {},
   "outputs": [
    {
     "output_type": "execute_result",
     "data": {
      "text/plain": [
       "array([[0, 0, 0, ..., 0, 0, 0],\n",
       "       [0, 0, 0, ..., 0, 0, 0],\n",
       "       [0, 0, 0, ..., 0, 0, 0],\n",
       "       ...,\n",
       "       [0, 0, 0, ..., 0, 0, 0],\n",
       "       [0, 0, 0, ..., 0, 0, 0],\n",
       "       [0, 0, 0, ..., 0, 0, 0]], dtype=uint8)"
      ]
     },
     "metadata": {},
     "execution_count": 217
    }
   ],
   "source": [
    "mask = np.zeros((thresh.shape),np.uint8)\n",
    "cv2.drawContours(mask,[best_cnt],0,255,-1)\n",
    "cv2.drawContours(mask,[best_cnt],0,0,2)\n",
    "#cv2.imshow(\"mask\", mask)"
   ]
  },
  {
   "cell_type": "code",
   "execution_count": 218,
   "metadata": {},
   "outputs": [],
   "source": [
    "cv2.imshow(\"mask\", mask)"
   ]
  },
  {
   "cell_type": "code",
   "execution_count": 219,
   "metadata": {},
   "outputs": [],
   "source": [
    "out = np.zeros_like(thresh)\n",
    "out[mask == 255] = gray[mask == 255]\n",
    "cv2.imshow(\"New image\", out)"
   ]
  },
  {
   "cell_type": "code",
   "execution_count": 172,
   "metadata": {},
   "outputs": [
    {
     "output_type": "execute_result",
     "data": {
      "text/plain": [
       "(600, 493)"
      ]
     },
     "metadata": {},
     "execution_count": 172
    }
   ],
   "source": [
    "out.shape"
   ]
  },
  {
   "cell_type": "code",
   "execution_count": 220,
   "metadata": {},
   "outputs": [],
   "source": [
    "approx = cv2.approxPolyDP(best_cnt, 0.02 * cv2.arcLength(best_cnt, True), True)"
   ]
  },
  {
   "cell_type": "code",
   "execution_count": 221,
   "metadata": {},
   "outputs": [
    {
     "output_type": "execute_result",
     "data": {
      "text/plain": [
       "4"
      ]
     },
     "metadata": {},
     "execution_count": 221
    }
   ],
   "source": [
    "len(approx)"
   ]
  },
  {
   "cell_type": "code",
   "execution_count": 222,
   "metadata": {
    "scrolled": false
   },
   "outputs": [],
   "source": [
    "src = np.squeeze(approx, axis=1)\n",
    "src = np.array(src,np.float32)"
   ]
  },
  {
   "cell_type": "code",
   "execution_count": 223,
   "metadata": {},
   "outputs": [],
   "source": [
    "def width_and_height(approx):\n",
    "    x_coord = list(approx[:,0][:,0])\n",
    "    y_coord = list(approx[:,0][:,1])\n",
    "    width = max(x_coord) - min(x_coord)\n",
    "    height = max(y_coord) - min(y_coord)\n",
    "\n",
    "    return width, height"
   ]
  },
  {
   "cell_type": "code",
   "execution_count": 224,
   "metadata": {},
   "outputs": [],
   "source": [
    "width, height = width_and_height(approx)"
   ]
  },
  {
   "cell_type": "code",
   "execution_count": 225,
   "metadata": {},
   "outputs": [],
   "source": [
    "warp_points = np.float32([[0,0],[0,height],[width,height],[width,0]])"
   ]
  },
  {
   "cell_type": "code",
   "execution_count": 226,
   "metadata": {},
   "outputs": [],
   "source": [
    "matrix = cv2.getPerspectiveTransform(src,warp_points)"
   ]
  },
  {
   "cell_type": "code",
   "execution_count": 227,
   "metadata": {},
   "outputs": [],
   "source": [
    "output = cv2.warpPerspective(out, matrix, (width,height))"
   ]
  },
  {
   "cell_type": "code",
   "execution_count": 233,
   "metadata": {},
   "outputs": [],
   "source": [
    "cv2.imshow(\"output\",output)"
   ]
  },
  {
   "cell_type": "code",
   "execution_count": 229,
   "metadata": {},
   "outputs": [],
   "source": [
    "testOutput = output.copy()"
   ]
  },
  {
   "cell_type": "code",
   "execution_count": 154,
   "metadata": {},
   "outputs": [],
   "source": [
    "threshOutput = cv2.adaptiveThreshold(testOutput,255,cv2.ADAPTIVE_THRESH_GAUSSIAN_C, cv2.THRESH_BINARY_INV,57,5)"
   ]
  },
  {
   "cell_type": "code",
   "execution_count": 149,
   "metadata": {},
   "outputs": [],
   "source": [
    "threshOutput = cv2.adaptiveThreshold(testOutput,255,cv2.ADAPTIVE_THRESH_GAUSSIAN_C, cv2.THRESH_BINARY_INV,57,5)\n",
    "horizontal_kernel = cv2.getStructuringElement(cv2.MORPH_RECT, (int(width//1.1),1))\n",
    "detected_lines = cv2.morphologyEx(threshOutput, cv2.MORPH_OPEN, horizontal_kernel, iterations=2)\n",
    "cnts = cv2.findContours(detected_lines, cv2.RETR_EXTERNAL, cv2.CHAIN_APPROX_SIMPLE)\n",
    "cnts = cnts[0] if len(cnts) == 2 else cnts[1]\n",
    "for c in cnts:\n",
    "    cv2.drawContours(threshOutput, [c], -1, (0,0,0), 2)\n",
    "cv2.imshow(\"testOutput\",threshOutput)"
   ]
  },
  {
   "cell_type": "code",
   "execution_count": 242,
   "metadata": {},
   "outputs": [],
   "source": [
    "def image_crop(img,width,height):\n",
    "    image_list = []\n",
    "    box_width = width // 9\n",
    "    box_height = height // 9\n",
    "    for col in range(9):\n",
    "        h = col * box_height\n",
    "        for row in range(9):\n",
    "            w = row * box_width\n",
    "            image_list.append(img[h + int(0.1*box_height):int(h + box_height // 1.1) , w + int(0.3*box_width):int(w + box_width // 1.1)])\n",
    "    return image_list"
   ]
  },
  {
   "cell_type": "code",
   "execution_count": 243,
   "metadata": {},
   "outputs": [],
   "source": [
    "image_list = image_crop(output,width,height)"
   ]
  },
  {
   "cell_type": "code",
   "execution_count": 245,
   "metadata": {},
   "outputs": [],
   "source": [
    "cv2.imshow(\"digit\",image_list[0])"
   ]
  },
  {
   "cell_type": "code",
   "execution_count": 108,
   "metadata": {},
   "outputs": [],
   "source": [
    "from keras.models import load_model"
   ]
  },
  {
   "cell_type": "code",
   "execution_count": 109,
   "metadata": {},
   "outputs": [],
   "source": [
    "model = load_model('../model/mnist.h5')"
   ]
  },
  {
   "cell_type": "code",
   "execution_count": 262,
   "metadata": {},
   "outputs": [],
   "source": [
    "def predict_number(img,model,debug=False):\n",
    "    _, thresh = cv2.threshold(img, 127, 255, cv2.THRESH_BINARY_INV)\n",
    "    #thresh = cv2.threshold(img, 127, 255, cv2.THRESH_BINARY_INV | cv2.THRESH_OTSU)[1]\n",
    "    _, cnts, _ = cv2.findContours(thresh, cv2.RETR_TREE, cv2.CHAIN_APPROX_SIMPLE)\n",
    "    if len(cnts) != 0:\n",
    "        c = max(cnts, key=cv2.contourArea)\n",
    "        mask = np.zeros(thresh.shape,dtype='uint8')\n",
    "        cv2.drawContours(mask,[c],0,255,0)\n",
    "        \n",
    "        (h,w) = img.shape\n",
    "        percentFilled = cv2.countNonZero(mask) / float(w * h)\n",
    "\n",
    "        if percentFilled < 0.03:\n",
    "            return 0\n",
    "\n",
    "        digit = cv2.bitwise_and(thresh, thresh, mask=mask)\n",
    "        kernel = np.ones((3,3), np.uint8) \n",
    "        digit = cv2.morphologyEx(digit, cv2.MORPH_CLOSE, kernel)\n",
    "\n",
    "        if debug:\n",
    "            cv2.imshow(\"digit\",digit)\n",
    "            cv2.waitKey(0)\n",
    "\n",
    "        #digit = cv2.threshold(output, 127, 255, cv2.THRESH_BINARY_INV + cv2.THRESH_OTSU)[1]\n",
    "        digit = cv2.resize(digit, (28,28))\n",
    "        digit = digit.reshape((1,28,28,1))\n",
    "        digit = digit.astype(\"float\")\n",
    "        digit /= 255.0\n",
    "        \n",
    "        result = model.predict_classes(digit)\n",
    "        result = result.tolist()\n",
    "    else:\n",
    "        result = 0\n",
    "    return result"
   ]
  },
  {
   "cell_type": "code",
   "execution_count": 263,
   "metadata": {},
   "outputs": [],
   "source": [
    "puzzle = []\n",
    "for img in image_list:\n",
    "    num = predict_number(img,model)\n",
    "    puzzle.append(num)"
   ]
  },
  {
   "cell_type": "code",
   "execution_count": 264,
   "metadata": {},
   "outputs": [
    {
     "output_type": "execute_result",
     "data": {
      "text/plain": [
       "[8]"
      ]
     },
     "metadata": {},
     "execution_count": 264
    }
   ],
   "source": [
    "predict_number(image_list[8],model,debug=True)"
   ]
  },
  {
   "cell_type": "code",
   "execution_count": 260,
   "metadata": {},
   "outputs": [
    {
     "output_type": "execute_result",
     "data": {
      "text/plain": [
       "[0,\n",
       " 0,\n",
       " 0,\n",
       " 0,\n",
       " 0,\n",
       " 0,\n",
       " [3],\n",
       " [9],\n",
       " [8],\n",
       " [7],\n",
       " 0,\n",
       " 0,\n",
       " 0,\n",
       " 0,\n",
       " 0,\n",
       " 0,\n",
       " 0,\n",
       " 0,\n",
       " 0,\n",
       " 0,\n",
       " 0,\n",
       " [2],\n",
       " 0,\n",
       " [3],\n",
       " 0,\n",
       " 0,\n",
       " 0,\n",
       " 0,\n",
       " 0,\n",
       " 0,\n",
       " 0,\n",
       " 0,\n",
       " [9],\n",
       " [8],\n",
       " [7],\n",
       " 0,\n",
       " [3],\n",
       " 0,\n",
       " 0,\n",
       " [3],\n",
       " 0,\n",
       " [8],\n",
       " 0,\n",
       " 0,\n",
       " [9],\n",
       " 0,\n",
       " [4],\n",
       " 0,\n",
       " 0,\n",
       " 0,\n",
       " 0,\n",
       " 0,\n",
       " 0,\n",
       " 0,\n",
       " [3],\n",
       " 0,\n",
       " 0,\n",
       " 0,\n",
       " 0,\n",
       " [5],\n",
       " 0,\n",
       " 0,\n",
       " 0,\n",
       " 0,\n",
       " 0,\n",
       " [5],\n",
       " 0,\n",
       " [2],\n",
       " 0,\n",
       " [7],\n",
       " 0,\n",
       " 0,\n",
       " [9],\n",
       " 0,\n",
       " 0,\n",
       " 0,\n",
       " [7],\n",
       " 0,\n",
       " [4],\n",
       " [1],\n",
       " 0]"
      ]
     },
     "metadata": {},
     "execution_count": 260
    }
   ],
   "source": [
    "puzzle"
   ]
  },
  {
   "cell_type": "code",
   "execution_count": 27,
   "metadata": {},
   "outputs": [],
   "source": [
    "out = model.predict_classes(np.expand_dims(crop_img2, axis=0))"
   ]
  },
  {
   "cell_type": "code",
   "execution_count": null,
   "metadata": {},
   "outputs": [],
   "source": [
    "predict_number(image_list[23],model,debug=True)"
   ]
  },
  {
   "cell_type": "code",
   "execution_count": 135,
   "metadata": {},
   "outputs": [
    {
     "output_type": "execute_result",
     "data": {
      "text/plain": [
       "array([[[ 0,  0]],\n",
       "\n",
       "       [[ 0, 51]],\n",
       "\n",
       "       [[51, 51]],\n",
       "\n",
       "       [[51,  0]]], dtype=int32)"
      ]
     },
     "metadata": {},
     "execution_count": 135
    }
   ],
   "source": [
    "len(cnts)\n",
    "max(cnts,key=cv2.contourArea)"
   ]
  },
  {
   "cell_type": "code",
   "execution_count": null,
   "metadata": {},
   "outputs": [],
   "source": []
  },
  {
   "cell_type": "code",
   "execution_count": null,
   "metadata": {},
   "outputs": [],
   "source": []
  }
 ],
 "metadata": {
  "kernelspec": {
   "display_name": "Python 3.7.9 64-bit ('sudoku-project': conda)",
   "language": "python",
   "name": "python37964bitsudokuprojectconda036f0244544a434eac9a3e8eadf45885"
  },
  "language_info": {
   "codemirror_mode": {
    "name": "ipython",
    "version": 3
   },
   "file_extension": ".py",
   "mimetype": "text/x-python",
   "name": "python",
   "nbconvert_exporter": "python",
   "pygments_lexer": "ipython3",
   "version": "3.7.9-final"
  }
 },
 "nbformat": 4,
 "nbformat_minor": 2
}